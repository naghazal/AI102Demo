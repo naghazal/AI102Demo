{
  "nbformat": 4,
  "nbformat_minor": 0,
  "metadata": {
    "colab": {
      "provenance": [],
      "authorship_tag": "ABX9TyPnJxozz26D6aSEi7n+hfeS"
    },
    "kernelspec": {
      "name": "python3",
      "display_name": "Python 3"
    },
    "language_info": {
      "name": "python"
    }
  },
  "cells": [
    {
      "cell_type": "code",
      "source": [
        "pip install openai"
      ],
      "metadata": {
        "id": "E_zwfYXPmcXt"
      },
      "execution_count": null,
      "outputs": []
    },
    {
      "cell_type": "code",
      "execution_count": null,
      "metadata": {
        "colab": {
          "base_uri": "https://localhost:8080/"
        },
        "id": "j_YkQSdehECx",
        "outputId": "ee3ca8a3-1205-4596-9b4a-e28fbecae17b"
      },
      "outputs": [
        {
          "output_type": "stream",
          "name": "stdout",
          "text": [
            "Chatbot: Hello! I'm a chatbot. What's your name?\n",
            "You: Nader\n",
            "Chatbot: Hi, Nader! How can I help you today?\n",
            "You: How can i learn AI\n",
            "Chatbot: Great question! There are several great resources available for learning AI. You can start by taking online courses, reading books, attending conferences and webinars, and even participating in online forums and communities. Additionally, there are many open-source AI projects and software libraries you can use to experiment and build\n"
          ]
        }
      ],
      "source": [
        "import openai\n",
        "\n",
        "# Set up the OpenAI API credentials and configuration\n",
        "openai.api_key = \"XXXXXXXXXXXXXXXXXXX\"\n",
        "openai.api_base = \"https://demotraining.openai.azure.com/\"\n",
        "openai.api_version = \"2022-12-01\"\n",
        "openai.api_type = \"azure\"\n",
        "\n",
        "# Define a function to get a response from the OpenAI API\n",
        "def get_response(input_text):\n",
        "    prompt = f\"The following is a conversation with an AI assistant. The assistant is helpful, creative, clever, and very friendly. \\n \\nHuman: {input_text}\\nAI:\"\n",
        "    response = openai.Completion.create(\n",
        "        engine=\"text-davinci-003\",\n",
        "        prompt=prompt,\n",
        "        temperature=0.7,\n",
        "        max_tokens=60,\n",
        "        n=1,\n",
        "        stop=\"\\n\"\n",
        "    )\n",
        "    response_text = response.choices[0].text.strip()\n",
        "    return response_text\n",
        "\n",
        "# Define a function to handle the chatbot conversation\n",
        "def chat():\n",
        "    print(\"Chatbot: Hello! I'm a chatbot. What's your name?\")\n",
        "    name = input(\"You: \")\n",
        "    print(f\"Chatbot: Hi, {name}! How can I help you today?\")\n",
        "    while True:\n",
        "        input_text = input(\"You: \")\n",
        "        if input_text.lower() in [\"bye\", \"goodbye\", \"exit\"]:\n",
        "            print(\"Chatbot: Goodbye!\")\n",
        "            break\n",
        "        response_text = get_response(input_text)\n",
        "        print(\"Chatbot:\", response_text)\n",
        "\n",
        "# Start the chatbot\n",
        "chat()\n"
      ]
    }
  ]
}