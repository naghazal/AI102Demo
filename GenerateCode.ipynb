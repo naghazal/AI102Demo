{
  "nbformat": 4,
  "nbformat_minor": 0,
  "metadata": {
    "colab": {
      "provenance": [],
      "authorship_tag": "ABX9TyNyWhAvt/kulLi1P06EcUsK"
    },
    "kernelspec": {
      "name": "python3",
      "display_name": "Python 3"
    },
    "language_info": {
      "name": "python"
    }
  },
  "cells": [
    {
      "cell_type": "code",
      "source": [
        "pip install azure-ai-textanalytics==5.2.0 openai"
      ],
      "metadata": {
        "id": "RNtE7JC1Nyaz"
      },
      "execution_count": null,
      "outputs": []
    },
    {
      "cell_type": "code",
      "execution_count": 60,
      "metadata": {
        "colab": {
          "base_uri": "https://localhost:8080/"
        },
        "id": "V0619pa61ieV",
        "outputId": "19f33b72-8d8c-43b2-e587-e3838423539a"
      },
      "outputs": [
        {
          "output_type": "stream",
          "name": "stdout",
          "text": [
            "\n",
            "Results for document: 'Write a program to sort an array of integers in ascending order.'\n",
            "...Entity is 'program' and categorized as 'Skill'\n",
            "...Entity is 'sort' and categorized as 'Skill'\n",
            ":\n",
            "\n",
            "#Python\n",
            "\n",
            "# Working with Lists\n",
            "list1 = [1, 2, 3, 4, 5]\n",
            "list2 = [6, 7, 8, 9, 10]\n",
            "\n",
            "# Concatenate two lists\n",
            "list3 = list1 + list2\n"
          ]
        }
      ],
      "source": [
        "import os\n",
        "import openai\n",
        "import requests\n",
        "from azure.core.credentials import AzureKeyCredential\n",
        "from azure.ai.textanalytics import TextAnalyticsClient\n",
        "\n",
        "# Azure Cognitive Services API details\n",
        "subscription_key = \"539b0ace94324419983533c93f0c5f73\"\n",
        "endpoint = \"https://demobh.cognitiveservices.azure.com/\"\n",
        "\n",
        "# Azure OpenAI API details\n",
        "openai_subscription_key = \"ef82ce24eee9412ebdf804ef0dbe8491\"\n",
        "openai_endpoint = \"https://demotraining.openai.azure.com/\"\n",
        "\n",
        "openai.api_key = \"ef82ce24eee9412ebdf804ef0dbe8491\"\n",
        "openai.api_base = \"https://demotraining.openai.azure.com/\"\n",
        "openai.api_version = \"2022-12-01\"\n",
        "openai.api_type = \"azure\"\n",
        "\n",
        "# Input task description\n",
        "task_description = \"Write a program to sort an array of integers in ascending order.\"\n",
        "\n",
        "# Extract requirements and constraints using Azure Cognitive Services\n",
        "text_analytics_url = f\"{endpoint}/text/analytics/v5.1.0/entities/recognition/general\"\n",
        "documents = [\n",
        "\"Write a program to sort an array of integers in ascending order.\"\n",
        "]\n",
        "\n",
        "headers = {\n",
        "    \"Ocp-Apim-Subscription-Key\": subscription_key,\n",
        "    \"Content-Type\": \"application/json\",\n",
        "}\n",
        "\n",
        "body = {\n",
        "    \"documents\": [\n",
        "        {\n",
        "            \"language\": \"en\",\n",
        "            \"id\": \"1\",\n",
        "            \"text\": documents,\n",
        "        }\n",
        "    ]\n",
        "}\n",
        "\n",
        "\n",
        "#response = requests.post(endpoint, headers=headers, json=body)\n",
        "#print(response.json())\n",
        "#entities = response.json()[\"documents\"][0][\"entities\"]\n",
        "text_analytics_client = TextAnalyticsClient(endpoint=endpoint, credential=AzureKeyCredential(subscription_key))\n",
        "\n",
        "skills = []\n",
        "constraints = []\n",
        "results = text_analytics_client.recognize_entities(documents, model_version=\"2022-10-01-preview\")\n",
        "\n",
        "for document, result in zip(documents, results):\n",
        "    print(f\"\\nResults for document: '{document}'\")\n",
        "\n",
        "for entity in result.entities:\n",
        "    print(f\"...Entity is '{entity.text}' and categorized as '{entity.category}'\")\n",
        "            \n",
        "for entity in result.entities:\n",
        "    if entity[\"category\"] == \"Skill\":\n",
        "        skills.append(entity[\"text\"])\n",
        "        skill = entity[\"text\"]\n",
        "    elif entity[\"category\"] == \"Constraint\":\n",
        "        constraints.append(entity[\"text\"])\n",
        "\n",
        "\n",
        "prompt = \"Given the following skills Skills:\\n{'\\n'.join(skills)}\\n\\n Please generate code snippets that fulfill the above skills\"\n",
        "\n",
        "response = openai.Completion.create(\n",
        "        engine=\"text-davinci-003\",\n",
        "        prompt=prompt,\n",
        "        temperature=0.7,\n",
        "        max_tokens=60,\n",
        "        n=1,\n",
        "        stop=None\n",
        "    )\n",
        "message = response.choices[0].text\n",
        "\n",
        "response_text = response.choices[0].text.strip()\n",
        "print(response_text)\n"
      ]
    }
  ]
}